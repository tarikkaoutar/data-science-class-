{
 "cells": [
  {
   "cell_type": "markdown",
   "metadata": {
    "collapsed": true
   },
   "source": [
    "# Perceptron Learning Algorithm (PLA)\n",
    "### 實作一個perceptron演算法來訓練Iris資料集。"
   ]
  },
  {
   "cell_type": "code",
   "execution_count": null,
   "metadata": {},
   "outputs": [],
   "source": [
    "from sklearn import datasets\n",
    "import pandas as pd\n",
    "import numpy as np\n",
    "import matplotlib.pyplot as plt\n",
    "import seaborn as sns"
   ]
  },
  {
   "cell_type": "code",
   "execution_count": 2,
   "metadata": {},
   "outputs": [],
   "source": [
    "%matplotlib inline"
   ]
  },
  {
   "cell_type": "markdown",
   "metadata": {},
   "source": [
    "### ➤ 匯入Iris資料集"
   ]
  },
  {
   "cell_type": "code",
   "execution_count": null,
   "metadata": {},
   "outputs": [],
   "source": [
    "iris = datasets.load_iris()\n",
    "x = pd.DataFrame(iris['data'], columns=iris['feature_names'])\n",
    "print(x)\n",
    "print(\"target_names: \"+str(iris['target_names']))\n",
    "y = pd.DataFrame(iris['target'], columns=['target'])\n",
    "iris_data = pd.concat([x,y], axis=1)\n",
    "iris_data.head(3)"
   ]
  },
  {
   "cell_type": "markdown",
   "metadata": {},
   "source": [
    "### ➤ 選出花萼長度、花瓣長度以及花的種類欄位"
   ]
  },
  {
   "cell_type": "code",
   "execution_count": null,
   "metadata": {},
   "outputs": [],
   "source": [
    "iris['target_names']"
   ]
  },
  {
   "cell_type": "code",
   "execution_count": 5,
   "metadata": {},
   "outputs": [],
   "source": [
    "target_name = {\n",
    "    0:'setosa',\n",
    "    1:'versicolor',\n",
    "    2:'virginica'\n",
    "}"
   ]
  },
  {
   "cell_type": "markdown",
   "metadata": {},
   "source": [
    "#### 為了簡單起見選出其中兩個特徵以及兩種花的種類。"
   ]
  },
  {
   "cell_type": "code",
   "execution_count": null,
   "metadata": {},
   "outputs": [],
   "source": [
    "iris_data['target_name'] = iris_data['target'].map(target_name)\n",
    "iris_data = iris_data[(iris_data['target_name'] == 'setosa')|(iris_data['target_name'] == 'versicolor')]\n",
    "iris_data = iris_data[['sepal length (cm)','petal length (cm)','target_name']]\n",
    "iris_data.head(5)"
   ]
  },
  {
   "cell_type": "markdown",
   "metadata": {},
   "source": [
    "###  ➤ 把target_name欄位的兩種花改成1,-1，主要是為了往後方便計算"
   ]
  },
  {
   "cell_type": "code",
   "execution_count": 7,
   "metadata": {},
   "outputs": [],
   "source": [
    "target_class = {\n",
    "    'setosa':1,\n",
    "    'versicolor':-1\n",
    "}"
   ]
  },
  {
   "cell_type": "code",
   "execution_count": 8,
   "metadata": {},
   "outputs": [],
   "source": [
    "iris_data['target_class'] = iris_data['target_name'].map(target_class)"
   ]
  },
  {
   "cell_type": "code",
   "execution_count": 9,
   "metadata": {},
   "outputs": [],
   "source": [
    "del iris_data['target_name']"
   ]
  },
  {
   "cell_type": "code",
   "execution_count": null,
   "metadata": {},
   "outputs": [],
   "source": [
    "iris_data.head()"
   ]
  },
  {
   "cell_type": "markdown",
   "metadata": {},
   "source": [
    "### 給定三個不同的iris資料集"
   ]
  },
  {
   "cell_type": "code",
   "execution_count": null,
   "metadata": {},
   "outputs": [],
   "source": [
    "iris_data1, iris_data2, iris_data3 = iris_data, iris_data, iris_data\n",
    "iris_data1 = iris_data1.drop(98)\n",
    "iris_data2 = iris_data2.append({'sepal length (cm)':5, 'petal length (cm)':2.4, 'target_class':1},ignore_index=True)\n",
    "iris_data3 = iris_data3.append({'sepal length (cm)':6.5, 'petal length (cm)':4.0, 'target_class':1},ignore_index=True)"
   ]
  },
  {
   "cell_type": "code",
   "execution_count": null,
   "metadata": {},
   "outputs": [],
   "source": [
    "#視覺化\n",
    "sns.lmplot(x='sepal length (cm)',y='petal length (cm)',data=iris_data1, fit_reg=False, hue ='target_class')\n",
    "plt.xlim(-0.5,7.5)\n",
    "plt.ylim(5,-3)\n",
    "sns.lmplot(x='sepal length (cm)',y='petal length (cm)',data=iris_data2, fit_reg=False, hue ='target_class')\n",
    "plt.xlim(-0.5,7.5)\n",
    "plt.ylim(5,-3)\n",
    "sns.lmplot(x='sepal length (cm)',y='petal length (cm)',data=iris_data3, fit_reg=False, hue ='target_class')\n",
    "plt.xlim(-0.5,7.5)\n",
    "plt.ylim(5,-3)"
   ]
  },
  {
   "attachments": {
    "image.png": {
     "image/png": "[encoded data removed]"
    }
   },
   "cell_type": "markdown",
   "metadata": {},
   "source": [
    "# Perceptron Rule ![image.png](attachment:image.png)"
   ]
  },
  {
   "cell_type": "markdown",
   "metadata": {},
   "source": [
    "### Activation Function (激勵函數)"
   ]
  },
  {
   "cell_type": "code",
   "execution_count": 69,
   "metadata": {},
   "outputs": [],
   "source": [
    "def sign(z):\n",
    "    if z > 0:\n",
    "        return None\n",
    "    else:\n",
    "        return None"
   ]
  },
  {
   "cell_type": "markdown",
   "metadata": {},
   "source": [
    "### error &nbsp;:&nbsp;紀錄有沒有分類錯誤。&nbsp;iterator &nbsp;:&nbsp;紀錄更新了幾次。"
   ]
  },
  {
   "cell_type": "code",
   "execution_count": 89,
   "metadata": {
    "scrolled": true
   },
   "outputs": [],
   "source": [
    "def PLA(data) :\n",
    "    w = np.array([0.,0.,0.])\n",
    "    error = 1\n",
    "    iterator = 0\n",
    "\n",
    "    while error != 0:\n",
    "        error = 0\n",
    "\n",
    "        for i in range(len(data)):\n",
    "            x,y = np.concatenate((np.array([1.]), np.array(data.iloc[i])[:2])), np.array(data.iloc[i])[2]\n",
    "            \n",
    "            #如果分類錯誤\n",
    "            if sign(np.dot(w,x)) != None:\n",
    "                print(\"iterator: \"+str(iterator))\n",
    "                iterator += 1\n",
    "                error += 1\n",
    "                sns.lmplot(x='sepal length (cm)',y='petal length (cm)',data=data, fit_reg=False, hue ='target_class')\n",
    "\n",
    "                # 前一個Decision boundary 的法向量\n",
    "                if w[1] != 0:\n",
    "                    x_last_decision_boundary = np.linspace(0,w[1])\n",
    "                    y_last_decision_boundary = (w[2]/w[1])*x_last_decision_boundary\n",
    "                    plt.plot(x_last_decision_boundary, y_last_decision_boundary,'c--')\n",
    "                \n",
    "                #更新w\n",
    "                w += None\n",
    "                print(\"x: \" + str(x))            \n",
    "                print(\"w: \" + str(w))\n",
    "\n",
    "                # x向量 \n",
    "                x_vector = np.linspace(0,x[1])\n",
    "                y_vector = (x[2]/x[1])*x_vector\n",
    "                plt.plot(x_vector, y_vector,'b')\n",
    "\n",
    "                # Decision boundary 的方向向量\n",
    "                x_decision_boundary = np.linspace(-0.5,7)\n",
    "                y_decision_boundary = (-w[1]/w[2])*x_decision_boundary - (w[0]/w[2])\n",
    "                plt.plot(x_decision_boundary, y_decision_boundary,'r')\n",
    "\n",
    "                # Decision boundary 的法向量\n",
    "                x_decision_boundary_normal_vector = np.linspace(0,w[1])\n",
    "                y_decision_boundary_normal_vector = (w[2]/w[1])*x_decision_boundary_normal_vector\n",
    "                plt.plot(x_decision_boundary_normal_vector, y_decision_boundary_normal_vector,'g')\n",
    "                plt.xlim(-0.5,7.5)\n",
    "                plt.ylim(5,-3)\n",
    "                plt.show()\n"
   ]
  },
  {
   "cell_type": "markdown",
   "metadata": {},
   "source": [
    "### 帶入  iris_data1"
   ]
  },
  {
   "cell_type": "code",
   "execution_count": 1,
   "metadata": {},
   "outputs": [
    {
     "ename": "NameError",
     "evalue": "name 'PLA' is not defined",
     "output_type": "error",
     "traceback": [
      "\u001b[1;31m---------------------------------------------------------------------------\u001b[0m",
      "\u001b[1;31mNameError\u001b[0m                                 Traceback (most recent call last)",
      "\u001b[1;32m~\\AppData\\Local\\Temp\\ipykernel_2864\\3733737024.py\u001b[0m in \u001b[0;36m<module>\u001b[1;34m\u001b[0m\n\u001b[1;32m----> 1\u001b[1;33m \u001b[0mPLA\u001b[0m\u001b[1;33m(\u001b[0m\u001b[0miris_data1\u001b[0m\u001b[1;33m)\u001b[0m\u001b[1;33m\u001b[0m\u001b[1;33m\u001b[0m\u001b[0m\n\u001b[0m",
      "\u001b[1;31mNameError\u001b[0m: name 'PLA' is not defined"
     ]
    }
   ],
   "source": [
    "PLA(iris_data1)"
   ]
  },
  {
   "cell_type": "markdown",
   "metadata": {},
   "source": [
    "### 帶入 iris_data2"
   ]
  },
  {
   "cell_type": "code",
   "execution_count": null,
   "metadata": {},
   "outputs": [],
   "source": [
    "PLA(iris_data2)"
   ]
  },
  {
   "cell_type": "markdown",
   "metadata": {},
   "source": [
    "### 帶入 iris_data3"
   ]
  },
  {
   "cell_type": "code",
   "execution_count": null,
   "metadata": {},
   "outputs": [],
   "source": [
    "PLA(iris_data3)"
   ]
  }
 ],
 "metadata": {
  "kernelspec": {
   "display_name": "Python 3 (ipykernel)",
   "language": "python",
   "name": "python3"
  },
  "language_info": {
   "codemirror_mode": {
    "name": "ipython",
    "version": 3
   },
   "file_extension": ".py",
   "mimetype": "text/x-python",
   "name": "python",
   "nbconvert_exporter": "python",
   "pygments_lexer": "ipython3",
   "version": "3.9.13"
  }
 },
 "nbformat": 4,
 "nbformat_minor": 2
}
